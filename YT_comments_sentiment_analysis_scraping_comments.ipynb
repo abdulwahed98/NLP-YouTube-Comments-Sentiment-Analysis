{
  "cells": [
    {
      "cell_type": "code",
      "execution_count": null,
      "id": "55dd2197",
      "metadata": {
        "id": "55dd2197"
      },
      "outputs": [],
      "source": [
        "pip install bot-studio"
      ]
    },
    {
      "cell_type": "code",
      "execution_count": null,
      "id": "6d2756fe",
      "metadata": {
        "id": "6d2756fe"
      },
      "outputs": [],
      "source": [
        "from bot_studio import *"
      ]
    },
    {
      "cell_type": "code",
      "execution_count": null,
      "id": "7a58423e",
      "metadata": {
        "id": "7a58423e"
      },
      "outputs": [],
      "source": [
        "pip install youtube-comment-scraper-python"
      ]
    },
    {
      "cell_type": "code",
      "execution_count": null,
      "id": "5afa7976",
      "metadata": {
        "id": "5afa7976"
      },
      "outputs": [],
      "source": [
        "from youtube_comment_scraper_python import *"
      ]
    },
    {
      "cell_type": "code",
      "execution_count": null,
      "id": "4c62cee5",
      "metadata": {
        "id": "4c62cee5"
      },
      "outputs": [],
      "source": [
        "youtube.login(username=\"demowala230331@gmail.com\",password=\"demowala\")"
      ]
    },
    {
      "cell_type": "code",
      "execution_count": null,
      "id": "c05af07d",
      "metadata": {
        "id": "c05af07d",
        "outputId": "c6c4a8f1-785d-4cfb-a6ae-d2f8542b8071"
      },
      "outputs": [
        {
          "name": "stdout",
          "output_type": "stream",
          "text": [
            "Youtube links: https://www.youtube.com/watch?v=BSYsXVFzmKA\n",
            "Output name: output.csv\n"
          ]
        },
        {
          "name": "stderr",
          "output_type": "stream",
          "text": [
            "Progress: 100%|██████████| 200.0/200 [00:24<00:00,  8.15it/s]\n"
          ]
        }
      ],
      "source": [
        "\n",
        "from youtube_comment_scraper_python import *\n",
        "import pandas as pd\n",
        "\n",
        "link = input(\"Youtube links: \")\n",
        "saved = input(\"Output name: \")\n",
        "youtube.open(link)\n",
        "\n",
        "response = youtube.video_comments()\n",
        "data = response['body']\n",
        "\n",
        "df = pd.DataFrame(data)\n",
        "df.to_csv(saved)"
      ]
    },
    {
      "cell_type": "code",
      "execution_count": null,
      "id": "78ae580e",
      "metadata": {
        "id": "78ae580e"
      },
      "outputs": [],
      "source": [
        "all_data = []\n",
        "for i in range(0, 40): # It will scroll 40 times\n",
        "    response = youtube.video_comments()\n",
        "    data = response['body']\n",
        "    all_data.extend(data)\n",
        "df = pd.DataFrame(data)\n",
        "df.to_csv(saved)"
      ]
    },
    {
      "cell_type": "code",
      "execution_count": null,
      "id": "7d7dd881",
      "metadata": {
        "id": "7d7dd881"
      },
      "outputs": [],
      "source": []
    }
  ],
  "metadata": {
    "kernelspec": {
      "display_name": "Python 3 (ipykernel)",
      "language": "python",
      "name": "python3"
    },
    "language_info": {
      "codemirror_mode": {
        "name": "ipython",
        "version": 3
      },
      "file_extension": ".py",
      "mimetype": "text/x-python",
      "name": "python",
      "nbconvert_exporter": "python",
      "pygments_lexer": "ipython3",
      "version": "3.10.9"
    },
    "colab": {
      "provenance": []
    }
  },
  "nbformat": 4,
  "nbformat_minor": 5
}